{
 "cells": [
  {
   "cell_type": "markdown",
   "id": "8a5cbdf8",
   "metadata": {},
   "source": [
    "# Classes in Python"
   ]
  },
  {
   "cell_type": "markdown",
   "id": "3b77836d",
   "metadata": {},
   "source": [
    "These are notes on Python classes based on Corey Schafers __[OOP tutorials](https://www.youtube.com/playlist?list=PL-osiE80TeTsqhIuOqKhwlXsIBIdSeYtc)__ with personal tests and additional comments. Any errors are mine. "
   ]
  },
  {
   "cell_type": "markdown",
   "id": "2b180eb2",
   "metadata": {},
   "source": [
    "## A short glossary\n",
    "\n",
    "`class` - a 'blueprint' of an object, which can contain data/variables called attributes or functions called methods, `Employee` in the example below\n",
    "\n",
    "*Class variable* - a variable shared among all instances of a class, `raise_amt` in the example below\n",
    "\n",
    "*Instance* - an unique object created using the class (the 'blueprint'), `emp_1` and `emp_2` in the example below\n",
    "\n",
    "*Instance variable* - variable/attribute of an unique instance, e.g. `emp_1.pay` in the example below\n",
    "\n",
    "*Attribute* - a variable or data associated with a class or an instance,`self.pay` or `emp_1.pay` in the example below\n",
    "\n",
    "*Method* - a function associated with a class, `fullname()` in the example below\n",
    "\n",
    "*Decorator* - \n",
    "\n",
    "`@classmethod` - a decorator for a function/method that utilises the class as an argument `cls` by convention, `set_raise_amt()` and `from_string()` in the example below\n",
    "\n",
    "`@staticmethod` - a decorator for a function/method that does not use or need either the class `cls` or instance `self` as an argument, `is_workday()` in the example below"
   ]
  },
  {
   "cell_type": "markdown",
   "id": "dbab1ddf",
   "metadata": {},
   "source": [
    "## Python OOP Tutorial 1: Classes and Instances"
   ]
  },
  {
   "cell_type": "markdown",
   "id": "f767165e",
   "metadata": {},
   "source": [
    "The code is available from github: https://github.com/CoreyMSchafer/code_snippets/blob/master/Object-Oriented/1-FirstClasses/oop.py. The comments are edited content."
   ]
  },
  {
   "cell_type": "markdown",
   "id": "2e007480",
   "metadata": {},
   "source": [
    "### Defining a class"
   ]
  },
  {
   "cell_type": "markdown",
   "id": "6e20deb2",
   "metadata": {},
   "source": [
    "Define a `class` named Employee:"
   ]
  },
  {
   "cell_type": "code",
   "execution_count": 23,
   "id": "461d84d5",
   "metadata": {},
   "outputs": [],
   "source": [
    "class Employee:\n",
    "\n",
    "    def __init__(self, first, last, pay):  # A special method for initialising an instance of the class\n",
    "        # Class attributes\n",
    "        self.first = first\n",
    "        self.last = last\n",
    "        self.email = first + '.' + last + '@email.com'\n",
    "        self.pay = pay\n",
    "    # A class method, which returns the fullname based on the arguments 'first' and 'last'\n",
    "    def fullname(self): # 'self' MUST BE included as an argument\n",
    "        return '{} {}'.format(self.first, self.last)"
   ]
  },
  {
   "cell_type": "markdown",
   "id": "f99db44f",
   "metadata": {},
   "source": [
    "A `class` can be thought of as a blueprint for an object - ***an instance*** - that can be created easily after the `class` (the blueprint) is defined.\n",
    "\n",
    "The argument `self` refers to an instance. In the example below `self` is `emp_1`. `self` must be the first (or only) argument or an error will result.\n",
    "\n",
    "The `def __init__()` method will be run automatically every time an instance is created (see below)."
   ]
  },
  {
   "cell_type": "markdown",
   "id": "0b920057",
   "metadata": {},
   "source": [
    "### Creating an instance of the class"
   ]
  },
  {
   "cell_type": "markdown",
   "id": "9250c229",
   "metadata": {},
   "source": [
    "Create an ***instance*** of the `class Employee:` with the required three arguments `(first, last, pay)`."
   ]
  },
  {
   "cell_type": "code",
   "execution_count": 24,
   "id": "26b7c637",
   "metadata": {},
   "outputs": [],
   "source": [
    "emp_1 = Employee('Corey', 'Schafer', 50000)  # Arguments must be in the same order as in def __init__() method\n",
    "# emp_1 = Employee('Corey', 'Schafer')  # This would result an error due to missing parameter 'pay'"
   ]
  },
  {
   "cell_type": "markdown",
   "id": "575f23cf",
   "metadata": {},
   "source": [
    "The class attributes could be defined manually outside the `class` with:"
   ]
  },
  {
   "cell_type": "code",
   "execution_count": 25,
   "id": "86d8e746",
   "metadata": {},
   "outputs": [
    {
     "name": "stdout",
     "output_type": "stream",
     "text": [
      "Rick\n",
      "Rick Schafer\n"
     ]
    }
   ],
   "source": [
    "emp_1.first = 'Rick'\n",
    "print(emp_1.first)\n",
    "print(emp_1.fullname())"
   ]
  },
  {
   "cell_type": "markdown",
   "id": "0f42d4b5",
   "metadata": {},
   "source": [
    "In the current example, this would override the instance `emp_1.first` set to `Corey` by the `def __init__()` method. Class attributes can be accessed outside the class but it should be noted that this can lead to name clashing problems. More on \"private\" varibles only accessible within a class (methods) in __[python tutorial](https://docs.python.org/3/tutorial/classes.html)__ section 9.6 on classes and for example __[here](https://www.datacamp.com/community/tutorials/role-underscore-python)__.\n",
    "\n",
    "***Note!*** With the above implementation of email with arguments of the `__init__` method leads to a problem if the first or last name of an employee is changed after initialisation."
   ]
  },
  {
   "cell_type": "code",
   "execution_count": 26,
   "id": "da0cc713",
   "metadata": {
    "scrolled": true
   },
   "outputs": [
    {
     "name": "stdout",
     "output_type": "stream",
     "text": [
      "Corey.Schafer@email.com\n"
     ]
    }
   ],
   "source": [
    "print(emp_1.email)"
   ]
  },
  {
   "cell_type": "markdown",
   "id": "88c2fc85",
   "metadata": {},
   "source": [
    "The first name is still 'Corey'. This problem can be overcome using decorators discussed in the following sections."
   ]
  },
  {
   "cell_type": "code",
   "execution_count": 5,
   "id": "5a51b8ef",
   "metadata": {},
   "outputs": [],
   "source": [
    "emp_1.first = 'Corey'  # Change back the first name"
   ]
  },
  {
   "cell_type": "markdown",
   "id": "4a8a1252",
   "metadata": {},
   "source": [
    "Create another instance:"
   ]
  },
  {
   "cell_type": "code",
   "execution_count": 6,
   "id": "50973bf5",
   "metadata": {},
   "outputs": [],
   "source": [
    "emp_2 = Employee('Test', 'Employee', 60000)"
   ]
  },
  {
   "cell_type": "markdown",
   "id": "b098b51a",
   "metadata": {},
   "source": [
    "### Printing the class content"
   ]
  },
  {
   "cell_type": "markdown",
   "id": "140ed0c7",
   "metadata": {},
   "source": [
    "Try to print the `class Employee:` and instance/object `emp_1`:"
   ]
  },
  {
   "cell_type": "code",
   "execution_count": 7,
   "id": "fc7cb293",
   "metadata": {},
   "outputs": [
    {
     "name": "stdout",
     "output_type": "stream",
     "text": [
      "<class '__main__.Employee'>\n",
      "<__main__.Employee object at 0x000001C61BAFFF10>\n"
     ]
    }
   ],
   "source": [
    "print(Employee)\n",
    "print(emp_1)"
   ]
  },
  {
   "cell_type": "markdown",
   "id": "b09b2977",
   "metadata": {},
   "source": [
    "Prints the `class` and object/instance information, not the content. The output can be made more informative using the special magic/dunder methods `__repr__` and `__str__` discussed in the following sections."
   ]
  },
  {
   "cell_type": "markdown",
   "id": "4c487fae",
   "metadata": {},
   "source": [
    "#### Accessing class content"
   ]
  },
  {
   "cell_type": "markdown",
   "id": "30634e18",
   "metadata": {},
   "source": [
    "Try printing different things of an instance:"
   ]
  },
  {
   "cell_type": "code",
   "execution_count": 8,
   "id": "b61e3320",
   "metadata": {
    "scrolled": true
   },
   "outputs": [
    {
     "name": "stdout",
     "output_type": "stream",
     "text": [
      "Corey Schafer\n",
      "Corey Schafer\n"
     ]
    }
   ],
   "source": [
    "print(emp_1.first + ' ' + emp_1.last)  # Print full name manually\n",
    "print(emp_1.fullname())  # print full name using the defined class method fullname()"
   ]
  },
  {
   "cell_type": "markdown",
   "id": "face6866",
   "metadata": {},
   "source": [
    "The line below also works and reveals the logic of including 'self' as an argument \n",
    "in the class method & helps understanding inheritance, but it is not probably a sensible\n",
    "approach since the instance must be passed manually"
   ]
  },
  {
   "cell_type": "code",
   "execution_count": 9,
   "id": "7bfeb7b2",
   "metadata": {},
   "outputs": [
    {
     "name": "stdout",
     "output_type": "stream",
     "text": [
      "Corey Schafer\n"
     ]
    }
   ],
   "source": [
    "print(Employee.fullname(emp_1))"
   ]
  },
  {
   "cell_type": "markdown",
   "id": "c39222c0",
   "metadata": {},
   "source": [
    "***Note!** The following line without the parenthesis in `fullname` would result an info on the class method `def fullname()` is a ***method*** not an attribute and the parenthesis must be included even though the method takes no parameters (other than the special parameter `self`)."
   ]
  },
  {
   "cell_type": "code",
   "execution_count": 10,
   "id": "72b954a1",
   "metadata": {},
   "outputs": [
    {
     "name": "stdout",
     "output_type": "stream",
     "text": [
      "<bound method Employee.fullname of <__main__.Employee object at 0x000001C61BAFFF10>>\n"
     ]
    }
   ],
   "source": [
    "print(emp_1.fullname) "
   ]
  },
  {
   "cell_type": "markdown",
   "id": "4c899fbb",
   "metadata": {},
   "source": [
    "Try printing other attributes:"
   ]
  },
  {
   "cell_type": "code",
   "execution_count": 11,
   "id": "b3b1d42e",
   "metadata": {
    "scrolled": true
   },
   "outputs": [
    {
     "name": "stdout",
     "output_type": "stream",
     "text": [
      "pay:  50000 , email:  Corey.Schafer@email.com\n",
      "pay: 50000, email: Corey.Schafer@email.com\n"
     ]
    }
   ],
   "source": [
    "print('pay: ', emp_1.pay, ',', 'email: ', emp_1.email)  # Combining info manually - the difficult and error prone way\n",
    "print('pay: {}, email: {}' .format(emp_1.pay, emp_1.email))  # Combining info using .format printing - easier"
   ]
  },
  {
   "cell_type": "markdown",
   "id": "b132bbcf",
   "metadata": {},
   "source": [
    "## Python OOP Tutorial 2: Class Variables"
   ]
  },
  {
   "cell_type": "markdown",
   "id": "7ae421d4",
   "metadata": {},
   "source": [
    "Class variables are data, variables or constants shared by all instances of a class. In the example below, `raise_amt` is defined as a class variable because the pay raise percentage is the same for all employees (class instances)."
   ]
  },
  {
   "cell_type": "code",
   "execution_count": 12,
   "id": "2b79eaa4",
   "metadata": {},
   "outputs": [],
   "source": [
    "class Employee:\n",
    "\n",
    "    num_of_emps = 0  # A class variable that is incremented each time a new instance is created\n",
    "    raise_amt = 1.04\n",
    "\n",
    "    def __init__(self, first, last, pay):\n",
    "        self.first = first\n",
    "        self.last = last\n",
    "        self.email = first + '.' + last + '@email.com'\n",
    "        self.pay = pay\n",
    "\n",
    "        Employee.num_of_emps += 1  # Increment number of employees\n",
    "\n",
    "    def fullname(self):\n",
    "        return '{} {}'.format(self.first, self.last)\n",
    "\n",
    "    def apply_raise(self):\n",
    "        self.pay = int(self.pay * self.raise_amt)"
   ]
  },
  {
   "cell_type": "markdown",
   "id": "744bbd14",
   "metadata": {},
   "source": [
    "The class variable `raise_amt` can be accessed in the method `apply_raise(self)` either using `self.raise_amt` or `Employee.raise_amt`.\n",
    "\n",
    "Let's create two instances to experiment with:"
   ]
  },
  {
   "cell_type": "code",
   "execution_count": 13,
   "id": "e70b8cc4",
   "metadata": {
    "scrolled": true
   },
   "outputs": [],
   "source": [
    "emp_1 = Employee('Corey', 'Schafer', 50000)\n",
    "emp_2 = Employee('Test', 'Employee', 50000)"
   ]
  },
  {
   "cell_type": "code",
   "execution_count": 14,
   "id": "13c888fd",
   "metadata": {
    "scrolled": false
   },
   "outputs": [
    {
     "name": "stdout",
     "output_type": "stream",
     "text": [
      "Defined raise_amt:  1.04\n",
      "emp_1 raise_amt before editing:  1.04\n",
      "emp_2 raise_amt before editing:  1.04\n",
      "Edited raise_amt via Employee.raise_amt:  1.05\n",
      "emp_1 raise_amt after editing:  1.05\n",
      "emp_2 raise_amt after editing:  1.05\n",
      "A test calculation emp_1.raise_amt * emp_2.raise_amt =  1.1025\n"
     ]
    }
   ],
   "source": [
    "print('Defined raise_amt: ', Employee.raise_amt)  # Print value of defined class variable raise_amt\n",
    "print('emp_1 raise_amt before editing: ', emp_1.raise_amt)  # Print raise_amt of emp_1\n",
    "print('emp_2 raise_amt before editing: ', emp_2.raise_amt)\n",
    "\n",
    "Employee.raise_amt = 1.05  # Edit class variable\n",
    "\n",
    "# And print to show that the class variable and all instances contain the changed value \n",
    "print('Edited raise_amt via Employee.raise_amt: ', Employee.raise_amt)\n",
    "print('emp_1 raise_amt after editing: ', emp_1.raise_amt)\n",
    "print('emp_2 raise_amt after editing: ', emp_2.raise_amt)\n",
    "\n",
    "test = emp_1.raise_amt * emp_2.raise_amt  # Do a test calculation using the instance variables and print result\n",
    "print('A test calculation emp_1.raise_amt * emp_2.raise_amt = ', test)"
   ]
  },
  {
   "cell_type": "markdown",
   "id": "a13a04f0",
   "metadata": {},
   "source": [
    "As evident, editing a class variable changes all the value for all instances.\n",
    "\n",
    "Although the class variable `raise_amt` can be accessed via the instances for printing or other usage, the class variable does not exist in the instance namespace unless it is edited via the instance. This is shown in the next code snippet:"
   ]
  },
  {
   "cell_type": "code",
   "execution_count": 15,
   "id": "4c8d67f6",
   "metadata": {
    "scrolled": true
   },
   "outputs": [
    {
     "name": "stdout",
     "output_type": "stream",
     "text": [
      "emp_1 namespace before editing instance variable:\n",
      " {'first': 'Corey', 'last': 'Schafer', 'email': 'Corey.Schafer@email.com', 'pay': 50000}\n",
      "emp_1 namespace after editing instance variable:\n",
      "  {'first': 'Corey', 'last': 'Schafer', 'email': 'Corey.Schafer@email.com', 'pay': 50000, 'raise_amt': 1.06}\n",
      "emp_2 namespace after editing instance variable:\n",
      "  {'first': 'Test', 'last': 'Employee', 'email': 'Test.Employee@email.com', 'pay': 50000}\n"
     ]
    }
   ],
   "source": [
    "print('emp_1 namespace before editing instance variable:\\n', emp_1.__dict__)\n",
    "emp_1.raise_amt = 1.06\n",
    "print('emp_1 namespace after editing instance variable:\\n ', emp_1.__dict__)\n",
    "\n",
    "print('emp_2 namespace after editing instance variable:\\n ', emp_2.__dict__)\n",
    "#emp_1.raise_amt = 1.06\n",
    "#print(emp_1.raise_amt)"
   ]
  },
  {
   "cell_type": "markdown",
   "id": "e82d1d6d",
   "metadata": {},
   "source": [
    "As shown by the result above, the `raise_amt` is added to `emp_1` namespace as an attribute after editing but is still missing from `emp_2` namespace.\n",
    "\n",
    "Access to class variables via the instances depend on whether `raise_amt` is accessed in the method `apply_raise()` via the instance `self.raise_amt` or class `Employee.raise_amt`. This behaviour is shown in the next code blocks.\n",
    "\n",
    "First behaviour as defined above with `self.raise_amt` and edited value of `emp_1.raise_amt = 1.06` defined in the previous code block:"
   ]
  },
  {
   "cell_type": "code",
   "execution_count": 16,
   "id": "3d45840c",
   "metadata": {
    "scrolled": false
   },
   "outputs": [
    {
     "name": "stdout",
     "output_type": "stream",
     "text": [
      "emp_1 raise:  1.06 emp_1 raise:  53000\n",
      "emp_2 raise:  1.05 emp_2 raise:  52500\n"
     ]
    }
   ],
   "source": [
    "emp_1.apply_raise()\n",
    "print('emp_1 raise: ', emp_1.raise_amt, 'emp_1 raise: ', emp_1.pay)\n",
    "emp_2.apply_raise()\n",
    "print('emp_2 raise: ', emp_2.raise_amt, 'emp_2 raise: ', emp_2.pay)"
   ]
  },
  {
   "cell_type": "markdown",
   "id": "be6d6127",
   "metadata": {},
   "source": [
    "As shown, `raise_amt` for `emp_1` was changed and applied when calling `apply_raise()`.\n",
    "\n",
    "Redefining `class Employee` with `Employee.raise_amt` in the `apply_raise()` method leads to following result:"
   ]
  },
  {
   "cell_type": "code",
   "execution_count": 17,
   "id": "296a898e",
   "metadata": {},
   "outputs": [],
   "source": [
    "class Employee:\n",
    "\n",
    "    num_of_emps = 0  # A class variable that is incremented each time a new instance is created\n",
    "    raise_amt = 1.05\n",
    "\n",
    "    def __init__(self, first, last, pay):\n",
    "        self.first = first\n",
    "        self.last = last\n",
    "        self.email = first + '.' + last + '@email.com'\n",
    "        self.pay = pay\n",
    "\n",
    "        Employee.num_of_emps += 1  # Increment number of employees\n",
    "\n",
    "    def fullname(self):\n",
    "        return '{} {}'.format(self.first, self.last)\n",
    "\n",
    "    def apply_raise(self):\n",
    "        self.pay = int(self.pay * Employee.raise_amt)\n",
    "        \n",
    "\n",
    "emp_1 = Employee('Corey', 'Schafer', 50000)\n",
    "emp_2 = Employee('Test', 'Employee', 50000)"
   ]
  },
  {
   "cell_type": "code",
   "execution_count": 18,
   "id": "d09e8ee6",
   "metadata": {},
   "outputs": [
    {
     "name": "stdout",
     "output_type": "stream",
     "text": [
      "emp_1 raise:  1.06 emp_1 raise:  52500\n",
      "emp_2 raise:  1.05 emp_2 raise:  52500\n",
      "emp_1 namespace:\n",
      " {'first': 'Corey', 'last': 'Schafer', 'email': 'Corey.Schafer@email.com', 'pay': 52500, 'raise_amt': 1.06}\n"
     ]
    }
   ],
   "source": [
    "emp_1.raise_amt = 1.06  # Set raise_amt via instance emp_1\n",
    "\n",
    "emp_1.apply_raise()   # Apply raise and print for both\n",
    "print('emp_1 raise: ', emp_1.raise_amt, 'emp_1 raise: ', emp_1.pay)\n",
    "emp_2.apply_raise()\n",
    "print('emp_2 raise: ', emp_2.raise_amt, 'emp_2 raise: ', emp_2.pay)\n",
    "\n",
    "print('emp_1 namespace:\\n', emp_1.__dict__)  # Print emp_1 namespace"
   ]
  },
  {
   "cell_type": "markdown",
   "id": "06b37557",
   "metadata": {},
   "source": [
    "Now, the instance variable is included after edit in `emp_1` namespace as before, but `apply_raise()` method uses now the class variable referred to by `Employee.raise_amt` instead of an instance with `self.raise_amt` resulting same pay after applying the raise for `emp_1` and `emp_2` instances."
   ]
  },
  {
   "cell_type": "markdown",
   "id": "af29dd7f",
   "metadata": {},
   "source": [
    "## Python OOP Tutorial 3: Inheritance - Creating Subclasses"
   ]
  },
  {
   "cell_type": "code",
   "execution_count": 19,
   "id": "a638f4af",
   "metadata": {},
   "outputs": [
    {
     "name": "stdout",
     "output_type": "stream",
     "text": [
      "Sue.Smith@email.com\n",
      "--> Corey Schafer\n"
     ]
    }
   ],
   "source": [
    "class Employee:\n",
    "\n",
    "    raise_amt = 1.04\n",
    "\n",
    "    def __init__(self, first, last, pay):\n",
    "        self.first = first\n",
    "        self.last = last\n",
    "        self.email = first + '.' + last + '@email.com'\n",
    "        self.pay = pay\n",
    "\n",
    "    def fullname(self):\n",
    "        return '{} {}'.format(self.first, self.last)\n",
    "\n",
    "    def apply_raise(self):\n",
    "        self.pay = int(self.pay * self.raise_amt)\n",
    "\n",
    "# Define a subclass that inherits Employee\n",
    "class Developer(Employee):\n",
    "    raise_amt = 1.10  # Change developer 'raise_amt' without affecting the parent classes class variable of the same name\n",
    "    \n",
    "    # Define an __init__ method for the subclass with prog_lang as an additional attribute compared to Employee class\n",
    "    def __init__(self, first, last, pay, prog_lang):\n",
    "        super().__init__(first, last, pay)  # Reuse parent class to initialise the common attributes with super().__init__()\n",
    "        # Employee.__init__(self, first, last, pay)  # Could be used also but has more restricted usage -> super(). is better\n",
    "        self.prog_lang = prog_lang  # Define the new attribute 'prog_lang' here in the subclass __init__()\n",
    "\n",
    "# Define another subclass that inherits Employee\n",
    "class Manager(Employee):\n",
    "    \n",
    "    # Define __init__ with employees set at default to 'None' (to avoid using mutable datatypes) as an additional argument\n",
    "    def __init__(self, first, last, pay, employees=None):\n",
    "        super().__init__(first, last, pay)\n",
    "        if employees is None:\n",
    "            self.employees = []\n",
    "        else:\n",
    "            self.employees = employees\n",
    "\n",
    "    def add_emp(self, emp):\n",
    "        if emp not in self.employees:\n",
    "            self.employees.append(emp)\n",
    "\n",
    "    def remove_emp(self, emp):\n",
    "        if emp in self.employees:\n",
    "            self.employees.remove(emp)\n",
    "\n",
    "    def print_emps(self):\n",
    "        for emp in self.employees:\n",
    "            print('-->', emp.fullname())\n",
    "\n",
    "\n",
    "dev_1 = Developer('Corey', 'Schafer', 50000, 'Python')\n",
    "dev_2 = Developer('Test', 'Employee', 60000, 'Java')\n",
    "\n",
    "mgr_1 = Manager('Sue', 'Smith', 90000, [dev_1])\n",
    "\n",
    "print(mgr_1.email)\n",
    "\n",
    "mgr_1.add_emp(dev_2)\n",
    "mgr_1.remove_emp(dev_2)\n",
    "\n",
    "mgr_1.print_emps()"
   ]
  },
  {
   "cell_type": "code",
   "execution_count": 20,
   "id": "a76d4697",
   "metadata": {},
   "outputs": [
    {
     "name": "stdout",
     "output_type": "stream",
     "text": [
      "Help on class Developer in module __main__:\n",
      "\n",
      "class Developer(Employee)\n",
      " |  Developer(first, last, pay, prog_lang)\n",
      " |  \n",
      " |  Method resolution order:\n",
      " |      Developer\n",
      " |      Employee\n",
      " |      builtins.object\n",
      " |  \n",
      " |  Methods defined here:\n",
      " |  \n",
      " |  __init__(self, first, last, pay, prog_lang)\n",
      " |      Initialize self.  See help(type(self)) for accurate signature.\n",
      " |  \n",
      " |  ----------------------------------------------------------------------\n",
      " |  Data and other attributes defined here:\n",
      " |  \n",
      " |  raise_amt = 1.1\n",
      " |  \n",
      " |  ----------------------------------------------------------------------\n",
      " |  Methods inherited from Employee:\n",
      " |  \n",
      " |  apply_raise(self)\n",
      " |  \n",
      " |  fullname(self)\n",
      " |  \n",
      " |  ----------------------------------------------------------------------\n",
      " |  Data descriptors inherited from Employee:\n",
      " |  \n",
      " |  __dict__\n",
      " |      dictionary for instance variables (if defined)\n",
      " |  \n",
      " |  __weakref__\n",
      " |      list of weak references to the object (if defined)\n",
      "\n",
      "None\n"
     ]
    }
   ],
   "source": [
    "print(help(Developer))"
   ]
  }
 ],
 "metadata": {
  "kernelspec": {
   "display_name": "Python 3 (ipykernel)",
   "language": "python",
   "name": "python3"
  },
  "language_info": {
   "codemirror_mode": {
    "name": "ipython",
    "version": 3
   },
   "file_extension": ".py",
   "mimetype": "text/x-python",
   "name": "python",
   "nbconvert_exporter": "python",
   "pygments_lexer": "ipython3",
   "version": "3.8.8"
  }
 },
 "nbformat": 4,
 "nbformat_minor": 5
}
